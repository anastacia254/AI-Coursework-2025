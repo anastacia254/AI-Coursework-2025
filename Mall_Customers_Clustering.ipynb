{
  "nbformat": 4,
  "nbformat_minor": 0,
  "metadata": {
    "colab": {
      "provenance": [],
      "include_colab_link": true
    },
    "kernelspec": {
      "name": "python3",
      "display_name": "Python 3"
    },
    "language_info": {
      "name": "python"
    }
  },
  "cells": [
    {
      "cell_type": "markdown",
      "metadata": {
        "id": "view-in-github",
        "colab_type": "text"
      },
      "source": [
        "<a href=\"https://colab.research.google.com/github/169975/MallCustomers-Clustering/blob/main/Mall_Customers_Clustering.ipynb\" target=\"_parent\"><img src=\"https://colab.research.google.com/assets/colab-badge.svg\" alt=\"Open In Colab\"/></a>"
      ]
    },
    {
      "cell_type": "code",
      "execution_count": null,
      "metadata": {
        "id": "Qgs5gxh3GOyJ"
      },
      "outputs": [],
      "source": [
        "import pandas as pd\n",
        "from google.colab import files\n",
        "uploaded = files.upload()\n",
        "df= pd.read_csv(\"Mall_Customers.csv\")"
      ]
    },
    {
      "cell_type": "markdown",
      "source": [
        "Q2. After appropriately cleaning the data, carry out Exploratory Data Analysis\n",
        "processes to retrieve at least 3 insights/observations from the dataset."
      ],
      "metadata": {
        "id": "HIvRayYKPqxU"
      }
    },
    {
      "cell_type": "code",
      "source": [
        "#Datacleaning code\n",
        "print(\"Dataset Shape\", df.shape)#shows the dimensions of the dataset\n",
        "print(\"\\n First five rows:\")\n",
        "print(df.head(5))\n",
        "print(\"\\n Dataset info:\" )#shows in details the columns datatypes and rows of dataset\n",
        "print(df.info())\n",
        "print(\"\\n Missing values\") #identifies the null values if any\n",
        "print(df.isnull().sum())\n",
        "original_df = df.copy()\n",
        "#check for duplicates\n",
        "print(f\"Duplicate rows: {df.duplicated().sum()}\")\n",
        "print(\"\\n Missing values per column:\")#checks the missing values per column\n",
        "print(df.isna().sum())\n",
        "print(\"\\n statistical summary:\")\n",
        "print(df.describe())"
      ],
      "metadata": {
        "id": "xot4qNcbOrhu"
      },
      "execution_count": null,
      "outputs": []
    },
    {
      "cell_type": "code",
      "source": [
        "#The Exploratory Data Analysis\n",
        "# Insight 1-> Create income categories and show exact counts\n",
        "import matplotlib.pyplot as plt\n",
        "import seaborn as sns\n",
        "import numpy as np # Import numpy\n",
        "plt.figure(figsize=(15, 5)) # creates a blank canvas that is wide enough to occuppy two charts\n",
        "\n",
        "# Income categories where by each customers income or annual income is placed into categories like 0 to 30k\n",
        "plt.subplot(1, 2, 1)\n",
        "income_bins = [0, 30, 60, 90, 120, 150]# income ranges\n",
        "income_labels = ['0-30k', '30-60k', '60-90k', '90-120k', '120k+']#labels for income ranges\n",
        "df['Income_Category'] = pd.cut(df['Annual Income (k$)'], bins=income_bins, labels=income_labels)#converts the numerical income into categories\n",
        "\n",
        "income_counts = df['Income_Category'].value_counts().sort_index()#counts the customers in each category\n",
        "#creates the bar graph with the x and y labels with the x axis as the annual income and y axis as the index or number of customers\n",
        "bars = plt.bar(income_counts.index, income_counts.values)\n",
        "plt.title('Number of Customers by Income Category')\n",
        "plt.xlabel('Annual Income (k$)')\n",
        "plt.ylabel('Number of Customers')\n",
        "\n",
        "# Add exact numbers on bars ie loops through each bar and puts the exact number above it\n",
        "for bar, count in zip(bars, income_counts.values):\n",
        "    plt.text(bar.get_x() + bar.get_width()/2, bar.get_height() + 0.5,\n",
        "             f'{count}', ha='center', va='bottom')\n",
        "\n",
        "# Insight 2-> Spending score categories\n",
        "plt.subplot(1, 2, 2)\n",
        "spending_bins = [0, 20, 40, 60, 80, 100]# spending score ranges\n",
        "spending_labels = ['0-20', '20-40', '40-60', '60-80', '80-100']# labels for the spending score ranges\n",
        "df['Spending_Category'] = pd.cut(df['Spending Score (1-100)'], bins=spending_bins, labels=spending_labels)\n",
        "#converts the numerical spending scores into categories\n",
        "\n",
        "spending_counts = df['Spending_Category'].value_counts().sort_index()#counts the number of customers in each category\n",
        "#creates the bar graph with orange bars with the x and y labels\n",
        "#with the x axis as the spending score categories  and y axis as the index or number of customers\n",
        "bars = plt.bar(spending_counts.index, spending_counts.values, color='orange')\n",
        "plt.title('Number of Customers by Spending Score')\n",
        "plt.xlabel('Spending Score')\n",
        "plt.ylabel('Number of Customers')\n",
        "\n",
        "# Add exact numbers on bars ie loops through each bar and puts the exact number above it\n",
        "for bar, count in zip(bars, spending_counts.values):\n",
        "    plt.text(bar.get_x() + bar.get_width()/2, bar.get_height() + 0.5,\n",
        "             f'{count}', ha='center', va='bottom')\n",
        "\n",
        "plt.tight_layout()\n",
        "plt.show()\n",
        "\n",
        "# Insight 3: Gender distribution and spending patterns\n",
        "plt.figure(figsize=(12, 4))#creates a blank canvas that is wide enough to occuppy two charts\n",
        "\n",
        "\n",
        "# Left bar graph: Gender distribution\n",
        "plt.subplot(1, 2, 1)\n",
        "gender_counts = df['Gender'].value_counts()#counts the number of customers in the gender column\n",
        "bars = plt.bar(gender_counts.index, gender_counts.values, color=['pink', 'lightblue'])\n",
        "#plots the graph with the number of customers in gender column that is the index on y axis and the gender values of male and female on x axis\n",
        "#with bars for males in lightblue and female in pink\n",
        "plt.title('Gender Distribution')\n",
        "plt.ylabel('Number of Customers')\n",
        "\n",
        "# Add exact numbers on bars  ie loops through each bar and puts the exact number above it\n",
        "for bar, count in zip(bars, gender_counts.values):\n",
        "    plt.text(bar.get_x() + bar.get_width()/2, bar.get_height() + 0.5,\n",
        "             f'{count}', ha='center', va='bottom')\n",
        "\n",
        "# Right bar graph: Average spending score by gender\n",
        "plt.subplot(1, 2, 2)\n",
        "avg_spending = df.groupby('Gender')['Spending Score (1-100)'].mean()# groups all customers by gender\n",
        "#and calculates the average spending score of each gender\n",
        "bars = plt.bar(avg_spending.index, avg_spending.values,\n",
        "               color=['pink', 'lightblue'], alpha=0.7)#plots the indices of gender male and female on x axis\n",
        "               # and the heights of the bar ie the average scores per gender\n",
        "plt.title('Average Spending Score by Gender')#title of the bar graph\n",
        "plt.ylabel('Average Spending Score')\n",
        "\n",
        "# Add exact values on bars ie loops through each bar and puts the exact number above it\n",
        "for bar, value in zip(bars, avg_spending.values):\n",
        "    plt.text(bar.get_x() + bar.get_width()/2, bar.get_height() + 0.5,\n",
        "             f'{value:.1f}', ha='center', va='bottom')\n",
        "\n",
        "plt.tight_layout()\n",
        "plt.show()"
      ],
      "metadata": {
        "id": "f1FOWNMuXDhP"
      },
      "execution_count": null,
      "outputs": []
    },
    {
      "cell_type": "markdown",
      "source": [
        "**INSIGHT 1** Who shops here? This insight is about Income distribution analysis it shows the distribution of customers across different income brackets From the graph generated, most customers are of upper- middle class income of a range 60-90k, few luxury customers of above 120k,low income customers of range 0 to 30k, middle class from 30 to 60k and upper income from 90 to 120k.From the output the mall attracts a high number of 86 customers in the upper- middle class category. Meaning the mall can focus on premium but accessible brands and should introduce discounts for lower income customers. the mall can also introduce premiumum loyalty programe with exclusive benefits.\n",
        "\n",
        "**INSIGHT 2** How do they shop? This insight shows the spending score categories or the spending behaviour categories. it shows how freely customers spend regardless of income and distribution of spending habits across all cuatomers.of which we have 75 customers in the 40 to 60 spending range meaning this is the core customer base of the mall since they are consistent and relaible spenders hence the mall can focus on mid range products that appeal to the 40 to 60 spending range. then it can also feature products in the $30-90 price range. then they can have loyalty programs and mid-week shopping events for consistent shoppers. In otherwords the mall should cater heavily on the 40 to 60 spending segment but shouldnt ignore the high spenders as they bring in more revenue or premium revenue. it should also clear pathways for low spenders\n",
        "\n",
        "**INSIGHT 3** This insight is about gender distributions and spending patterns. So it show that females spend more with an average of 51.5 spending score while men spend slitghtly less than the women with an average of 48.5 spending score. In this case the mall can have more stores for like cosmetics, clothes etc that appeal to females. it could also create promotions to increase male spending like having sports bar specials, grooming and gaming nights etec"
      ],
      "metadata": {
        "id": "v1jN2MTeX6rb"
      }
    },
    {
      "cell_type": "markdown",
      "source": [
        "# Question 3a: K-Means Clustering with One Feature (Spending Score)"
      ],
      "metadata": {
        "id": "vIPDPIgeP0bk"
      }
    },
    {
      "cell_type": "code",
      "source": [
        "#Question 3a code\n",
        "\n",
        "from sklearn.cluster import KMeans\n",
        "from sklearn.metrics import silhouette_score\n",
        "import numpy as np\n",
        "\n",
        "# Select one feature for clustering\n",
        "X1 = df[['Spending Score (1-100)']]\n",
        "\n",
        "# Elbow Method to find the best number of clusters\n",
        "inertia = []\n",
        "for k in range(1, 11):\n",
        "    kmeans = KMeans(n_clusters=k, random_state=0)\n",
        "    kmeans.fit(X1)\n",
        "    inertia.append(kmeans.inertia_)\n",
        "\n",
        "plt.plot(range(1, 11), inertia, 'bo-')\n",
        "plt.title('Elbow Method for 1 Feature')\n",
        "plt.xlabel('Number of clusters (k)')\n",
        "plt.ylabel('Inertia')\n",
        "plt.show()\n",
        "\n",
        "# Silhouette Score Verification for One Feature\n",
        "for k in range(2, 11):\n",
        "    kmeans = KMeans(n_clusters=k, random_state=0)\n",
        "    kmeans.fit(X1)\n",
        "    score = silhouette_score(X1, kmeans.labels_)\n",
        "    print(f\"Clusters: {k}, Silhouette Score: {score:.4f}\")"
      ],
      "metadata": {
        "id": "PYe4wSBVQARA"
      },
      "execution_count": null,
      "outputs": []
    },
    {
      "cell_type": "markdown",
      "source": [
        "Question 3b\n",
        " Use the k-means algorithm to create groups of customers based on:\n",
        " 2 suitable features. Elbow Method with visualization"
      ],
      "metadata": {
        "id": "xKTZ9pPjTcA4"
      }
    },
    {
      "cell_type": "code",
      "source": [
        "#Question 3b code\n",
        "from sklearn.preprocessing import StandardScaler\n",
        "# Select only numeric columns for Kmeans\n",
        "numeric_df = df.select_dtypes(include=['number'])\n",
        "#Next Step Scale the numeric columns\n",
        "scaler = StandardScaler()\n",
        "scaled_df = scaler.fit_transform(numeric_df)\n",
        "# Initialize K-Means parameters\n",
        "kmeans_kwargs = {\n",
        "    \"init\": \"random\",     # start with random centroids\n",
        "    \"n_init\": 10,         # run K-Means 10 times to avoid local minima\n",
        "    \"random_state\": 1,    # ensures reproducibility\n",
        "}\n",
        "\n",
        "# Store the sum of squared errors (SSE) for each k\n",
        "sse = []\n",
        "\n",
        "for k in range(1, 11):\n",
        "    kmeans = KMeans(n_clusters=k, **kmeans_kwargs)\n",
        "    kmeans.fit(scaled_df)\n",
        "    sse.append(kmeans.inertia_)\n",
        "\n",
        "# Plot results with elbow method\n",
        "plt.plot(range(1, 11), sse, marker='o')\n",
        "plt.xticks(range(1, 11))\n",
        "plt.xlabel(\"Number of Clusters\")\n",
        "plt.ylabel(\"SSE (Inertia)\")\n",
        "plt.title(\"Elbow Method for Optimal k\")\n",
        "plt.show()"
      ],
      "metadata": {
        "id": "AeAw9YEhThBc"
      },
      "execution_count": null,
      "outputs": []
    },
    {
      "cell_type": "code",
      "source": [
        "kmeans = KMeans(n_clusters=5, **kmeans_kwargs)\n",
        "kmeans.fit(scaled_df)\n",
        "df['Cluster']=kmeans.labels_"
      ],
      "metadata": {
        "id": "qTTCSHXXfobb"
      },
      "execution_count": null,
      "outputs": []
    },
    {
      "cell_type": "code",
      "source": [
        "cluster_summary = df.groupby('Cluster')[['Annual Income (k$)', 'Spending Score (1-100)']].mean()\n",
        "print(cluster_summary)\n",
        "# eg 0 cluster high income high spending score - implusive buyers and brand enthusiasts\n",
        "# 1 cluster high income low spenders\n",
        "#2 cluster low income low spenders\n",
        "# 3 cluster - moderate income average spenders\n",
        "# 4 cluster - moderate income high spenders\n"
      ],
      "metadata": {
        "id": "xpKQeem4gjAr"
      },
      "execution_count": null,
      "outputs": []
    },
    {
      "cell_type": "code",
      "source": [
        "# This is to visualize the clusters clearly\n",
        "plt.scatter(scaled_df[:, 0], scaled_df[:, 1], c=df['Cluster'], cmap='viridis')\n",
        "plt.title('Customer Segments')\n",
        "plt.xlabel('Annual Income (scaled)')\n",
        "plt.ylabel('Spending Score (scaled)')\n",
        "plt.show()\n"
      ],
      "metadata": {
        "id": "lKVCdAavgwTS"
      },
      "execution_count": null,
      "outputs": []
    },
    {
      "cell_type": "code",
      "source": [
        "# This code shows a new column added called Cluster Label that shows diiferent clusters earn a certain amount of income and how they spend it\n",
        "cluster_labels = {\n",
        "    0: 'high Income - High Spenders',\n",
        "    1: 'high Income - Low Spenders',\n",
        "    2: 'low Income - AverageSpenders',\n",
        "    3: 'Moderate  Income - Average Spenders',\n",
        "    4: 'low Income - High Spenders'\n",
        "}\n",
        "\n",
        "df['Cluster Label'] = df['Cluster'].map(cluster_labels)\n",
        "df\n"
      ],
      "metadata": {
        "id": "hhGsDe1ag5te"
      },
      "execution_count": null,
      "outputs": []
    },
    {
      "cell_type": "markdown",
      "source": [
        "3b Silhouette"
      ],
      "metadata": {
        "id": "7C8xiNBbizTa"
      }
    },
    {
      "cell_type": "code",
      "source": [
        "from sklearn.metrics import silhouette_score\n",
        "# This is the computation for the silhouette Score\n",
        "#for different values of K\n",
        "silhouette_scores = []\n",
        "\n",
        "for k in range(2, 11):\n",
        "    kmeans = KMeans(n_clusters=k, init='random', n_init=10, random_state=42)\n",
        "    kmeans.fit(scaled_df)\n",
        "    score = silhouette_score(scaled_df, kmeans.labels_)\n",
        "    silhouette_scores.append(score)\n",
        "    print(f\"For k={k}, Silhouette Score = {score:.4f}\")\n",
        "# CODE  to visulaize Silhouette Scores\n",
        "# the higher the silhouette score (closer to 1)\n",
        "# the better the cluster separation rh k=5\n",
        "plt.plot(range(2, 11), silhouette_scores, marker='o')\n",
        "plt.title('Silhouette Scores for Different k')\n",
        "plt.xlabel('Number of Clusters (k)')\n",
        "plt.ylabel('Silhouette Score')\n",
        "plt.show()"
      ],
      "metadata": {
        "id": "HJ3LA1x-iyu2"
      },
      "execution_count": null,
      "outputs": []
    },
    {
      "cell_type": "code",
      "source": [
        "#Visualize Final Clusters\n",
        "plt.scatter(scaled_df[:, 0], scaled_df[:, 1], c=df['Cluster'], cmap='rainbow')\n",
        "plt.title('Final Clusters (K-Means, Verified by Silhouette Score)')\n",
        "plt.xlabel('Annual Income (scaled)')\n",
        "plt.ylabel('Spending Score (scaled)')\n",
        "plt.show()"
      ],
      "metadata": {
        "id": "wau8aOTeiqM-"
      },
      "execution_count": null,
      "outputs": []
    },
    {
      "cell_type": "code",
      "source": [
        "## show final cluster means\n",
        "df.groupby('Cluster')[['Annual Income (k$)', 'Spending Score (1-100)']].mean()"
      ],
      "metadata": {
        "id": "ziOfU4XsoN1T"
      },
      "execution_count": null,
      "outputs": []
    },
    {
      "cell_type": "markdown",
      "source": [
        "Question 4 Type Question here"
      ],
      "metadata": {
        "id": "T4Ada9c9QDyG"
      }
    },
    {
      "cell_type": "code",
      "source": [
import pandas as pd
import matplotlib.pyplot as plt

# Reload dataset (make sure Mall_Customers.csv is still uploaded)
df = pd.read_csv("Mall_Customers.csv")

# If your previous code created 'Cluster' column, recreate it quickly
from sklearn.cluster import KMeans
X2 = df[['Annual Income (k$)', 'Spending Score (1-100)']]
kmeans = KMeans(n_clusters=5, random_state=42)
df['Cluster'] = kmeans.fit_predict(X2)

# Now run the comparison plots
fig, axes = plt.subplots(1, 2, figsize=(12, 5))

axes[0].scatter(df['Spending Score (1-100)'], [0]*len(df),
                c='purple', s=50)
axes[0].set_title('1D Clustering: Spending Score')
axes[0].set_xlabel('Spending Score (1–100)')
axes[0].set_yticks([])

axes[1].scatter(df['Annual Income (k$)'], df['Spending Score (1-100)'],
                c=df['Cluster'], cmap='rainbow', s=50)
axes[1].set_title('2D Clustering: Income vs Spending Score')
axes[1].set_xlabel('Annual Income (k$)')
axes[1].set_ylabel('Spending Score (1–100)')

plt.tight_layout()
plt.show()

print("""
Q4 Comparison Summary:
- 1D clustering groups customers based only on spending score (low, medium, high spenders).
- 2D clustering uses both income and spending score to reveal 5 distinct behavioral segments.
- 2D clustering provides deeper insights, e.g., high-income low spenders or low-income high spenders.
- Therefore, 2D clustering is more effective for business decision-making.
""")
      ],
      "metadata": {
        "id": "r_BbKniOQKCa"
      },
      "execution_count": null,
      "outputs": []
    },
    {
      "cell_type": "markdown",
      "source": [
        "Question 5 Type question here"
      ],
      "metadata": {
        "id": "-WJutcwvQNN7"
      }
    },
    {
      "cell_type": "code",
      "source": [
        "#Question 5 code here"
      ],
      "metadata": {
        "id": "MHe2t2hGQT4_"
      },
      "execution_count": null,
      "outputs": []
    }
  ]
}
